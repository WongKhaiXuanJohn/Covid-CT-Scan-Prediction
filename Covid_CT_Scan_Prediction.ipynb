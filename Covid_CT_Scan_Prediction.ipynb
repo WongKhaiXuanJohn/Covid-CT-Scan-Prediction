{
  "cells": [
    {
      "cell_type": "code",
      "execution_count": null,
      "metadata": {
        "id": "kQq4F8-qyPTT",
        "outputId": "98378727-4362-4742-fd72-5b56eb6f12bd"
      },
      "outputs": [
        {
          "name": "stdout",
          "output_type": "stream",
          "text": [
            "Collecting split-folders\n",
            "  Downloading split_folders-0.5.1-py3-none-any.whl (8.4 kB)\n",
            "Installing collected packages: split-folders\n",
            "Successfully installed split-folders-0.5.1\n",
            "Note: you may need to restart the kernel to use updated packages.\n"
          ]
        }
      ],
      "source": [
        "pip install split-folders"
      ]
    },
    {
      "cell_type": "code",
      "execution_count": null,
      "metadata": {
        "id": "O9hnWMYIyPTa"
      },
      "outputs": [],
      "source": [
        "import splitfolders"
      ]
    },
    {
      "cell_type": "code",
      "execution_count": null,
      "metadata": {
        "id": "cZsDSOhPyPTb"
      },
      "outputs": [],
      "source": [
        "# Put my dataset into input_folder variable to split it into train, validation and test\n",
        "# Reference: https://www.youtube.com/watch?v=C6wbr1jJvVs\n",
        "\n",
        "input_folder = 'Dataset (CT Scans by Plameneduardo)'"
      ]
    },
    {
      "cell_type": "code",
      "execution_count": null,
      "metadata": {
        "id": "O5soJFS5yPTc",
        "outputId": "8098deca-dcca-4f3f-bc43-d2f5b02fc238"
      },
      "outputs": [
        {
          "name": "stderr",
          "output_type": "stream",
          "text": [
            "Copying files: 2481 files [00:07, 323.27 files/s]\n"
          ]
        }
      ],
      "source": [
        "# Split the dataset based on ratio\n",
        "# 0.7 for train, 0.2 for validation and 0.1 for test\n",
        "# Training data is used to train and update the weight\n",
        "# Validation data is used as a part of the training but \n",
        "# only to validate after each epochs and metrics\n",
        "# Testing data never get use in the training\n",
        "# It is something we use after the training is fully completed to test the completed train model\n",
        "# Ideally the test data should come from somewhere else but in this case we split it \n",
        "\n",
        "splitfolders.ratio(input_folder, output='Split Dataset (CT Scans by Plameneduardo)',\n",
        "                   seed=814, ratio=(0.7, 0.2, 0.1),\n",
        "                   group_prefix=None)"
      ]
    },
    {
      "cell_type": "code",
      "execution_count": null,
      "metadata": {
        "id": "dzeH528jyPTd"
      },
      "outputs": [],
      "source": [
        "pip install seaborn"
      ]
    },
    {
      "cell_type": "code",
      "execution_count": null,
      "metadata": {
        "id": "9rfyUoS4yPTd"
      },
      "outputs": [],
      "source": [
        "pip install tensorflow"
      ]
    },
    {
      "cell_type": "code",
      "execution_count": null,
      "metadata": {
        "id": "yoGYKU_WyPTd"
      },
      "outputs": [],
      "source": [
        "pip install opencv-python"
      ]
    },
    {
      "cell_type": "code",
      "execution_count": null,
      "metadata": {
        "id": "XJMB6sU3yPTe"
      },
      "outputs": [],
      "source": [
        "# Importing the required libraries\n",
        "\n",
        "import keras\n",
        "import tensorflow\n",
        "import shutil\n",
        "import numpy as np\n",
        "import pandas as pd\n",
        "import matplotlib.pyplot as plt\n",
        "%matplotlib inline\n",
        "import seaborn as sns\n",
        "import cv2\n",
        "import os\n",
        "from tqdm import tqdm\n",
        "from sklearn.metrics import confusion_matrix\n",
        "from sklearn.model_selection import train_test_split\n",
        "from keras.utils.np_utils import to_categorical\n",
        "from keras.models import Model,Sequential, Input, load_model\n",
        "from keras.layers import Dense, Dropout, Flatten, Conv2D, MaxPool2D, BatchNormalization, AveragePooling2D, GlobalAveragePooling2D\n",
        "from keras import optimizers\n",
        "from keras.preprocessing.image import ImageDataGenerator\n",
        "from keras.callbacks import ModelCheckpoint, ReduceLROnPlateau\n",
        "from keras.applications.resnet import ResNet50\n",
        "from tensorflow.keras.utils import plot_model"
      ]
    },
    {
      "cell_type": "code",
      "execution_count": null,
      "metadata": {
        "id": "j42Xp0bqyPTf",
        "outputId": "26185698-35ae-452a-9193-f355a478f062"
      },
      "outputs": [
        {
          "data": {
            "text/plain": [
              "'2.8.0'"
            ]
          },
          "execution_count": 2,
          "metadata": {},
          "output_type": "execute_result"
        }
      ],
      "source": [
        "# Check the version for Keras\n",
        "\n",
        "keras.__version__"
      ]
    },
    {
      "cell_type": "code",
      "execution_count": null,
      "metadata": {
        "id": "DTCDla_7yPTf"
      },
      "outputs": [],
      "source": [
        "# This is to load the pre trained resnet model\n",
        "# In this model, the top layers known as dense layers before output will be freezed\n",
        "# Imagenet will be used as weights\n",
        "# Since the include_top = False hence the pooling can be optional\n",
        "# Pooling will set as None because it is not required\n",
        "# The input shape will be 224x224 with 3 RGB as mentioned in the assignment\n",
        "\n",
        "resnet50 = ResNet50(include_top=False, weights='imagenet',\n",
        "              input_shape=(224, 224, 3),\n",
        "              pooling=None)"
      ]
    },
    {
      "cell_type": "code",
      "execution_count": null,
      "metadata": {
        "id": "RM3ma-ywyPTg"
      },
      "outputs": [],
      "source": [
        "# Classification layers that can be customized will be added\n",
        "\n",
        "from tensorflow.keras import optimizers\n",
        "\n",
        "# Execute sequential model and adopt ResNet50 model\n",
        "\n",
        "model = keras.models.Sequential()\n",
        "\n",
        "# On top the VGG16 model, custom layers will be added:\n",
        "# Pooling layers will be included in the first 5 layers to reduce the dimensions of the feature maps\n",
        "# Reference: https://github.com/vaibhavcodes/DeepLearning-Architectures/blob/master/03_VGG_16_Architecture.ipynb\n",
        "\n",
        "# Develop the first block with 2 Convolution and 1 Max pool\n",
        "model.add(Conv2D(filters=64, kernel_size=(3,3), strides=(1,1), padding='same',\n",
        "          input_shape=(224, 224, 3), activation='relu'))\n",
        "\n",
        "model.add(Conv2D(filters=64, kernel_size=(3,3), strides=(1,1), padding='same',\n",
        "          activation='relu'))\n",
        "\n",
        "model.add(MaxPool2D(pool_size=(2,2), strides=(2,2)))\n",
        "\n",
        "# Develop the second block with 2 Convolution and 1 Max pool\n",
        "model.add(Conv2D(filters=128, kernel_size=(3,3), strides=(1,1), padding='same',\n",
        "          activation='relu'))\n",
        "\n",
        "model.add(Conv2D(filters=128, kernel_size=(3,3), strides=(1,1), padding='same',\n",
        "          activation='relu'))\n",
        "\n",
        "model.add(MaxPool2D(pool_size=(2,2), strides=(2,2)))\n",
        "\n",
        "#Develop the third block with 3 Convolutional and 1 Max pool\n",
        "model.add(Conv2D(filters=256, kernel_size=(3, 3), strides=(1, 1), padding='same',\n",
        "          activation='relu'))\n",
        "\n",
        "model.add(Conv2D(filters=256, kernel_size=(3,3), strides=(1,1), padding='same',\n",
        "          activation='relu'))\n",
        "\n",
        "model.add(Conv2D(filters=256, kernel_size=(3,3), strides=(1,1), padding='same',\n",
        "          activation='relu'))\n",
        "\n",
        "model.add(MaxPool2D(pool_size=(2,2), strides=(2,2)))\n",
        "\n",
        "#Develop the fourth block with 3 Convolutional and 1 Max pool\n",
        "model.add(Conv2D(filters=512, kernel_size=(3, 3), strides=(1, 1), padding='same',\n",
        "          activation='relu'))\n",
        "\n",
        "model.add(Conv2D(filters=512, kernel_size=(3,3), strides=(1,1), padding='same',\n",
        "          activation='relu'))\n",
        "\n",
        "model.add(Conv2D(filters=512, kernel_size=(3,3), strides=(1,1), padding='same',\n",
        "          activation='relu'))\n",
        "\n",
        "model.add(MaxPool2D(pool_size=(2,2), strides=(2,2)))\n",
        "\n",
        "#Develop the fifth block with 3 Convolutional and 1 Max pool\n",
        "model.add(Conv2D(filters=512, kernel_size=(3, 3), strides=(1, 1), padding='same',\n",
        "          activation='relu'))\n",
        "\n",
        "model.add(Conv2D(filters=512, kernel_size=(3,3), strides=(1,1), padding='same',\n",
        "          activation='relu'))\n",
        "\n",
        "model.add(Conv2D(filters=512, kernel_size=(3,3), strides=(1,1), padding='same',\n",
        "          activation='relu'))\n",
        "\n",
        "model.add(MaxPool2D(pool_size=(2,2), strides=(2,2)))\n",
        "\n",
        "# Add a flatten layer after done developing the convolutional layers\n",
        "# Flatten layer is basically flatten the multi-dimensional input tensors into a single dimension\n",
        "# In layman term, eg: a 3x3 matrix will be flatten to a 1 long column for better further processing in the model\n",
        "model.add(Flatten())\n",
        "\n",
        "# Develop 3 Dense layers (2 for normal and 1 for output)\n",
        "# First 2 Dense layers\n",
        "model.add(Dense(units=4096, activation='relu'))\n",
        "model.add(Dense(units=4096, activation='relu'))\n",
        "\n",
        "# Add a dropout layer with 0.5 rate\n",
        "model.add(Dropout(0.5))\n",
        "\n",
        "# The last Dense layer for output\n",
        "# In here the neurons will be 1 because this dataset only has 2 categories which are COVID and non-COVID, hence 1 is fine\n",
        "# If use 2, it will caused error during model.fit() process\n",
        "# Activation will be using softmax because softmax is suitable for classification while linear suitable for regression \n",
        "# Reference: https://stats.stackexchange.com/questions/218542/which-activation-function-for-output-layer\n",
        "model.add(Dense(units=1, activation='softmax'))"
      ]
    },
    {
      "cell_type": "code",
      "execution_count": null,
      "metadata": {
        "id": "EMP2ijWTyPTi"
      },
      "outputs": [],
      "source": [
        "model.compile(loss='binary_crossentropy',\n",
        "              optimizer=optimizers.Adam(learning_rate=0.01),\n",
        "              metrics=['accuracy'])\n"
      ]
    },
    {
      "cell_type": "code",
      "execution_count": null,
      "metadata": {
        "id": "8eatBOKdyPTj",
        "outputId": "692ff9ae-0ca1-4b86-9ddf-6b6ab7acf583"
      },
      "outputs": [
        {
          "name": "stdout",
          "output_type": "stream",
          "text": [
            "Model: \"sequential\"\n",
            "_________________________________________________________________\n",
            " Layer (type)                Output Shape              Param #   \n",
            "=================================================================\n",
            " conv2d (Conv2D)             (None, 224, 224, 64)      1792      \n",
            "                                                                 \n",
            " conv2d_1 (Conv2D)           (None, 224, 224, 64)      36928     \n",
            "                                                                 \n",
            " max_pooling2d (MaxPooling2D  (None, 112, 112, 64)     0         \n",
            " )                                                               \n",
            "                                                                 \n",
            " conv2d_2 (Conv2D)           (None, 112, 112, 128)     73856     \n",
            "                                                                 \n",
            " conv2d_3 (Conv2D)           (None, 112, 112, 128)     147584    \n",
            "                                                                 \n",
            " max_pooling2d_1 (MaxPooling  (None, 56, 56, 128)      0         \n",
            " 2D)                                                             \n",
            "                                                                 \n",
            " conv2d_4 (Conv2D)           (None, 56, 56, 256)       295168    \n",
            "                                                                 \n",
            " conv2d_5 (Conv2D)           (None, 56, 56, 256)       590080    \n",
            "                                                                 \n",
            " conv2d_6 (Conv2D)           (None, 56, 56, 256)       590080    \n",
            "                                                                 \n",
            " max_pooling2d_2 (MaxPooling  (None, 28, 28, 256)      0         \n",
            " 2D)                                                             \n",
            "                                                                 \n",
            " conv2d_7 (Conv2D)           (None, 28, 28, 512)       1180160   \n",
            "                                                                 \n",
            " conv2d_8 (Conv2D)           (None, 28, 28, 512)       2359808   \n",
            "                                                                 \n",
            " conv2d_9 (Conv2D)           (None, 28, 28, 512)       2359808   \n",
            "                                                                 \n",
            " max_pooling2d_3 (MaxPooling  (None, 14, 14, 512)      0         \n",
            " 2D)                                                             \n",
            "                                                                 \n",
            " conv2d_10 (Conv2D)          (None, 14, 14, 512)       2359808   \n",
            "                                                                 \n",
            " conv2d_11 (Conv2D)          (None, 14, 14, 512)       2359808   \n",
            "                                                                 \n",
            " conv2d_12 (Conv2D)          (None, 14, 14, 512)       2359808   \n",
            "                                                                 \n",
            " max_pooling2d_4 (MaxPooling  (None, 7, 7, 512)        0         \n",
            " 2D)                                                             \n",
            "                                                                 \n",
            " flatten (Flatten)           (None, 25088)             0         \n",
            "                                                                 \n",
            " dense (Dense)               (None, 4096)              102764544 \n",
            "                                                                 \n",
            " dense_1 (Dense)             (None, 4096)              16781312  \n",
            "                                                                 \n",
            " dropout (Dropout)           (None, 4096)              0         \n",
            "                                                                 \n",
            " dense_2 (Dense)             (None, 1)                 4097      \n",
            "                                                                 \n",
            "=================================================================\n",
            "Total params: 134,264,641\n",
            "Trainable params: 134,264,641\n",
            "Non-trainable params: 0\n",
            "_________________________________________________________________\n"
          ]
        }
      ],
      "source": [
        "model.summary()"
      ]
    },
    {
      "cell_type": "code",
      "execution_count": null,
      "metadata": {
        "id": "HtRVAv4HyPTj",
        "outputId": "358eff43-c248-42bf-842c-807c12d938a9"
      },
      "outputs": [
        {
          "name": "stdout",
          "output_type": "stream",
          "text": [
            "You must install pydot (`pip install pydot`) and install graphviz (see instructions at https://graphviz.gitlab.io/download/) for plot_model/model_to_dot to work.\n"
          ]
        }
      ],
      "source": [
        "plot_model(model)"
      ]
    },
    {
      "cell_type": "code",
      "execution_count": null,
      "metadata": {
        "id": "wj5r2U8_yPTk",
        "outputId": "6a4e5724-d530-472b-b93e-72f575f1c4e7"
      },
      "outputs": [
        {
          "name": "stdout",
          "output_type": "stream",
          "text": [
            "Model: \"resnet50\"\n",
            "__________________________________________________________________________________________________\n",
            " Layer (type)                   Output Shape         Param #     Connected to                     \n",
            "==================================================================================================\n",
            " input_2 (InputLayer)           [(None, None, None,  0           []                               \n",
            "                                 3)]                                                              \n",
            "                                                                                                  \n",
            " conv1_pad (ZeroPadding2D)      (None, None, None,   0           ['input_2[0][0]']                \n",
            "                                3)                                                                \n",
            "                                                                                                  \n",
            " conv1_conv (Conv2D)            (None, None, None,   9472        ['conv1_pad[0][0]']              \n",
            "                                64)                                                               \n",
            "                                                                                                  \n",
            " conv1_bn (BatchNormalization)  (None, None, None,   256         ['conv1_conv[0][0]']             \n",
            "                                64)                                                               \n",
            "                                                                                                  \n",
            " conv1_relu (Activation)        (None, None, None,   0           ['conv1_bn[0][0]']               \n",
            "                                64)                                                               \n",
            "                                                                                                  \n",
            " pool1_pad (ZeroPadding2D)      (None, None, None,   0           ['conv1_relu[0][0]']             \n",
            "                                64)                                                               \n",
            "                                                                                                  \n",
            " pool1_pool (MaxPooling2D)      (None, None, None,   0           ['pool1_pad[0][0]']              \n",
            "                                64)                                                               \n",
            "                                                                                                  \n",
            " conv2_block1_1_conv (Conv2D)   (None, None, None,   4160        ['pool1_pool[0][0]']             \n",
            "                                64)                                                               \n",
            "                                                                                                  \n",
            " conv2_block1_1_bn (BatchNormal  (None, None, None,   256        ['conv2_block1_1_conv[0][0]']    \n",
            " ization)                       64)                                                               \n",
            "                                                                                                  \n",
            " conv2_block1_1_relu (Activatio  (None, None, None,   0          ['conv2_block1_1_bn[0][0]']      \n",
            " n)                             64)                                                               \n",
            "                                                                                                  \n",
            " conv2_block1_2_conv (Conv2D)   (None, None, None,   36928       ['conv2_block1_1_relu[0][0]']    \n",
            "                                64)                                                               \n",
            "                                                                                                  \n",
            " conv2_block1_2_bn (BatchNormal  (None, None, None,   256        ['conv2_block1_2_conv[0][0]']    \n",
            " ization)                       64)                                                               \n",
            "                                                                                                  \n",
            " conv2_block1_2_relu (Activatio  (None, None, None,   0          ['conv2_block1_2_bn[0][0]']      \n",
            " n)                             64)                                                               \n",
            "                                                                                                  \n",
            " conv2_block1_0_conv (Conv2D)   (None, None, None,   16640       ['pool1_pool[0][0]']             \n",
            "                                256)                                                              \n",
            "                                                                                                  \n",
            " conv2_block1_3_conv (Conv2D)   (None, None, None,   16640       ['conv2_block1_2_relu[0][0]']    \n",
            "                                256)                                                              \n",
            "                                                                                                  \n",
            " conv2_block1_0_bn (BatchNormal  (None, None, None,   1024       ['conv2_block1_0_conv[0][0]']    \n",
            " ization)                       256)                                                              \n",
            "                                                                                                  \n",
            " conv2_block1_3_bn (BatchNormal  (None, None, None,   1024       ['conv2_block1_3_conv[0][0]']    \n",
            " ization)                       256)                                                              \n",
            "                                                                                                  \n",
            " conv2_block1_add (Add)         (None, None, None,   0           ['conv2_block1_0_bn[0][0]',      \n",
            "                                256)                              'conv2_block1_3_bn[0][0]']      \n",
            "                                                                                                  \n",
            " conv2_block1_out (Activation)  (None, None, None,   0           ['conv2_block1_add[0][0]']       \n",
            "                                256)                                                              \n",
            "                                                                                                  \n",
            " conv2_block2_1_conv (Conv2D)   (None, None, None,   16448       ['conv2_block1_out[0][0]']       \n",
            "                                64)                                                               \n",
            "                                                                                                  \n",
            " conv2_block2_1_bn (BatchNormal  (None, None, None,   256        ['conv2_block2_1_conv[0][0]']    \n",
            " ization)                       64)                                                               \n",
            "                                                                                                  \n",
            " conv2_block2_1_relu (Activatio  (None, None, None,   0          ['conv2_block2_1_bn[0][0]']      \n",
            " n)                             64)                                                               \n",
            "                                                                                                  \n",
            " conv2_block2_2_conv (Conv2D)   (None, None, None,   36928       ['conv2_block2_1_relu[0][0]']    \n",
            "                                64)                                                               \n",
            "                                                                                                  \n",
            " conv2_block2_2_bn (BatchNormal  (None, None, None,   256        ['conv2_block2_2_conv[0][0]']    \n",
            " ization)                       64)                                                               \n",
            "                                                                                                  \n",
            " conv2_block2_2_relu (Activatio  (None, None, None,   0          ['conv2_block2_2_bn[0][0]']      \n",
            " n)                             64)                                                               \n",
            "                                                                                                  \n",
            " conv2_block2_3_conv (Conv2D)   (None, None, None,   16640       ['conv2_block2_2_relu[0][0]']    \n",
            "                                256)                                                              \n",
            "                                                                                                  \n",
            " conv2_block2_3_bn (BatchNormal  (None, None, None,   1024       ['conv2_block2_3_conv[0][0]']    \n",
            " ization)                       256)                                                              \n",
            "                                                                                                  \n",
            " conv2_block2_add (Add)         (None, None, None,   0           ['conv2_block1_out[0][0]',       \n",
            "                                256)                              'conv2_block2_3_bn[0][0]']      \n",
            "                                                                                                  \n",
            " conv2_block2_out (Activation)  (None, None, None,   0           ['conv2_block2_add[0][0]']       \n",
            "                                256)                                                              \n",
            "                                                                                                  \n",
            " conv2_block3_1_conv (Conv2D)   (None, None, None,   16448       ['conv2_block2_out[0][0]']       \n",
            "                                64)                                                               \n",
            "                                                                                                  \n",
            " conv2_block3_1_bn (BatchNormal  (None, None, None,   256        ['conv2_block3_1_conv[0][0]']    \n",
            " ization)                       64)                                                               \n",
            "                                                                                                  \n",
            " conv2_block3_1_relu (Activatio  (None, None, None,   0          ['conv2_block3_1_bn[0][0]']      \n",
            " n)                             64)                                                               \n",
            "                                                                                                  \n",
            " conv2_block3_2_conv (Conv2D)   (None, None, None,   36928       ['conv2_block3_1_relu[0][0]']    \n",
            "                                64)                                                               \n",
            "                                                                                                  \n",
            " conv2_block3_2_bn (BatchNormal  (None, None, None,   256        ['conv2_block3_2_conv[0][0]']    \n",
            " ization)                       64)                                                               \n",
            "                                                                                                  \n",
            " conv2_block3_2_relu (Activatio  (None, None, None,   0          ['conv2_block3_2_bn[0][0]']      \n",
            " n)                             64)                                                               \n",
            "                                                                                                  \n",
            " conv2_block3_3_conv (Conv2D)   (None, None, None,   16640       ['conv2_block3_2_relu[0][0]']    \n",
            "                                256)                                                              \n",
            "                                                                                                  \n",
            " conv2_block3_3_bn (BatchNormal  (None, None, None,   1024       ['conv2_block3_3_conv[0][0]']    \n",
            " ization)                       256)                                                              \n",
            "                                                                                                  \n",
            " conv2_block3_add (Add)         (None, None, None,   0           ['conv2_block2_out[0][0]',       \n",
            "                                256)                              'conv2_block3_3_bn[0][0]']      \n",
            "                                                                                                  \n",
            " conv2_block3_out (Activation)  (None, None, None,   0           ['conv2_block3_add[0][0]']       \n",
            "                                256)                                                              \n",
            "                                                                                                  \n",
            " conv3_block1_1_conv (Conv2D)   (None, None, None,   32896       ['conv2_block3_out[0][0]']       \n",
            "                                128)                                                              \n",
            "                                                                                                  \n",
            " conv3_block1_1_bn (BatchNormal  (None, None, None,   512        ['conv3_block1_1_conv[0][0]']    \n",
            " ization)                       128)                                                              \n",
            "                                                                                                  \n",
            " conv3_block1_1_relu (Activatio  (None, None, None,   0          ['conv3_block1_1_bn[0][0]']      \n",
            " n)                             128)                                                              \n",
            "                                                                                                  \n",
            " conv3_block1_2_conv (Conv2D)   (None, None, None,   147584      ['conv3_block1_1_relu[0][0]']    \n",
            "                                128)                                                              \n",
            "                                                                                                  \n",
            " conv3_block1_2_bn (BatchNormal  (None, None, None,   512        ['conv3_block1_2_conv[0][0]']    \n",
            " ization)                       128)                                                              \n",
            "                                                                                                  \n",
            " conv3_block1_2_relu (Activatio  (None, None, None,   0          ['conv3_block1_2_bn[0][0]']      \n",
            " n)                             128)                                                              \n",
            "                                                                                                  \n",
            " conv3_block1_0_conv (Conv2D)   (None, None, None,   131584      ['conv2_block3_out[0][0]']       \n",
            "                                512)                                                              \n",
            "                                                                                                  \n",
            " conv3_block1_3_conv (Conv2D)   (None, None, None,   66048       ['conv3_block1_2_relu[0][0]']    \n",
            "                                512)                                                              \n",
            "                                                                                                  \n",
            " conv3_block1_0_bn (BatchNormal  (None, None, None,   2048       ['conv3_block1_0_conv[0][0]']    \n",
            " ization)                       512)                                                              \n",
            "                                                                                                  \n",
            " conv3_block1_3_bn (BatchNormal  (None, None, None,   2048       ['conv3_block1_3_conv[0][0]']    \n",
            " ization)                       512)                                                              \n",
            "                                                                                                  \n",
            " conv3_block1_add (Add)         (None, None, None,   0           ['conv3_block1_0_bn[0][0]',      \n",
            "                                512)                              'conv3_block1_3_bn[0][0]']      \n",
            "                                                                                                  \n",
            " conv3_block1_out (Activation)  (None, None, None,   0           ['conv3_block1_add[0][0]']       \n",
            "                                512)                                                              \n",
            "                                                                                                  \n",
            " conv3_block2_1_conv (Conv2D)   (None, None, None,   65664       ['conv3_block1_out[0][0]']       \n",
            "                                128)                                                              \n",
            "                                                                                                  \n",
            " conv3_block2_1_bn (BatchNormal  (None, None, None,   512        ['conv3_block2_1_conv[0][0]']    \n",
            " ization)                       128)                                                              \n",
            "                                                                                                  \n",
            " conv3_block2_1_relu (Activatio  (None, None, None,   0          ['conv3_block2_1_bn[0][0]']      \n",
            " n)                             128)                                                              \n",
            "                                                                                                  \n",
            " conv3_block2_2_conv (Conv2D)   (None, None, None,   147584      ['conv3_block2_1_relu[0][0]']    \n",
            "                                128)                                                              \n",
            "                                                                                                  \n",
            " conv3_block2_2_bn (BatchNormal  (None, None, None,   512        ['conv3_block2_2_conv[0][0]']    \n",
            " ization)                       128)                                                              \n",
            "                                                                                                  \n",
            " conv3_block2_2_relu (Activatio  (None, None, None,   0          ['conv3_block2_2_bn[0][0]']      \n",
            " n)                             128)                                                              \n",
            "                                                                                                  \n",
            " conv3_block2_3_conv (Conv2D)   (None, None, None,   66048       ['conv3_block2_2_relu[0][0]']    \n",
            "                                512)                                                              \n",
            "                                                                                                  \n",
            " conv3_block2_3_bn (BatchNormal  (None, None, None,   2048       ['conv3_block2_3_conv[0][0]']    \n",
            " ization)                       512)                                                              \n",
            "                                                                                                  \n",
            " conv3_block2_add (Add)         (None, None, None,   0           ['conv3_block1_out[0][0]',       \n",
            "                                512)                              'conv3_block2_3_bn[0][0]']      \n",
            "                                                                                                  \n",
            " conv3_block2_out (Activation)  (None, None, None,   0           ['conv3_block2_add[0][0]']       \n",
            "                                512)                                                              \n",
            "                                                                                                  \n",
            " conv3_block3_1_conv (Conv2D)   (None, None, None,   65664       ['conv3_block2_out[0][0]']       \n",
            "                                128)                                                              \n",
            "                                                                                                  \n",
            " conv3_block3_1_bn (BatchNormal  (None, None, None,   512        ['conv3_block3_1_conv[0][0]']    \n",
            " ization)                       128)                                                              \n",
            "                                                                                                  \n",
            " conv3_block3_1_relu (Activatio  (None, None, None,   0          ['conv3_block3_1_bn[0][0]']      \n",
            " n)                             128)                                                              \n",
            "                                                                                                  \n",
            " conv3_block3_2_conv (Conv2D)   (None, None, None,   147584      ['conv3_block3_1_relu[0][0]']    \n",
            "                                128)                                                              \n",
            "                                                                                                  \n",
            " conv3_block3_2_bn (BatchNormal  (None, None, None,   512        ['conv3_block3_2_conv[0][0]']    \n",
            " ization)                       128)                                                              \n",
            "                                                                                                  \n",
            " conv3_block3_2_relu (Activatio  (None, None, None,   0          ['conv3_block3_2_bn[0][0]']      \n",
            " n)                             128)                                                              \n",
            "                                                                                                  \n",
            " conv3_block3_3_conv (Conv2D)   (None, None, None,   66048       ['conv3_block3_2_relu[0][0]']    \n",
            "                                512)                                                              \n",
            "                                                                                                  \n",
            " conv3_block3_3_bn (BatchNormal  (None, None, None,   2048       ['conv3_block3_3_conv[0][0]']    \n",
            " ization)                       512)                                                              \n",
            "                                                                                                  \n",
            " conv3_block3_add (Add)         (None, None, None,   0           ['conv3_block2_out[0][0]',       \n",
            "                                512)                              'conv3_block3_3_bn[0][0]']      \n",
            "                                                                                                  \n",
            " conv3_block3_out (Activation)  (None, None, None,   0           ['conv3_block3_add[0][0]']       \n",
            "                                512)                                                              \n",
            "                                                                                                  \n",
            " conv3_block4_1_conv (Conv2D)   (None, None, None,   65664       ['conv3_block3_out[0][0]']       \n",
            "                                128)                                                              \n",
            "                                                                                                  \n",
            " conv3_block4_1_bn (BatchNormal  (None, None, None,   512        ['conv3_block4_1_conv[0][0]']    \n",
            " ization)                       128)                                                              \n",
            "                                                                                                  \n",
            " conv3_block4_1_relu (Activatio  (None, None, None,   0          ['conv3_block4_1_bn[0][0]']      \n",
            " n)                             128)                                                              \n",
            "                                                                                                  \n",
            " conv3_block4_2_conv (Conv2D)   (None, None, None,   147584      ['conv3_block4_1_relu[0][0]']    \n",
            "                                128)                                                              \n",
            "                                                                                                  \n",
            " conv3_block4_2_bn (BatchNormal  (None, None, None,   512        ['conv3_block4_2_conv[0][0]']    \n",
            " ization)                       128)                                                              \n",
            "                                                                                                  \n",
            " conv3_block4_2_relu (Activatio  (None, None, None,   0          ['conv3_block4_2_bn[0][0]']      \n",
            " n)                             128)                                                              \n",
            "                                                                                                  \n",
            " conv3_block4_3_conv (Conv2D)   (None, None, None,   66048       ['conv3_block4_2_relu[0][0]']    \n",
            "                                512)                                                              \n",
            "                                                                                                  \n",
            " conv3_block4_3_bn (BatchNormal  (None, None, None,   2048       ['conv3_block4_3_conv[0][0]']    \n",
            " ization)                       512)                                                              \n",
            "                                                                                                  \n",
            " conv3_block4_add (Add)         (None, None, None,   0           ['conv3_block3_out[0][0]',       \n",
            "                                512)                              'conv3_block4_3_bn[0][0]']      \n",
            "                                                                                                  \n",
            " conv3_block4_out (Activation)  (None, None, None,   0           ['conv3_block4_add[0][0]']       \n",
            "                                512)                                                              \n",
            "                                                                                                  \n",
            " conv4_block1_1_conv (Conv2D)   (None, None, None,   131328      ['conv3_block4_out[0][0]']       \n",
            "                                256)                                                              \n",
            "                                                                                                  \n",
            " conv4_block1_1_bn (BatchNormal  (None, None, None,   1024       ['conv4_block1_1_conv[0][0]']    \n",
            " ization)                       256)                                                              \n",
            "                                                                                                  \n",
            " conv4_block1_1_relu (Activatio  (None, None, None,   0          ['conv4_block1_1_bn[0][0]']      \n",
            " n)                             256)                                                              \n",
            "                                                                                                  \n",
            " conv4_block1_2_conv (Conv2D)   (None, None, None,   590080      ['conv4_block1_1_relu[0][0]']    \n",
            "                                256)                                                              \n",
            "                                                                                                  \n",
            " conv4_block1_2_bn (BatchNormal  (None, None, None,   1024       ['conv4_block1_2_conv[0][0]']    \n",
            " ization)                       256)                                                              \n",
            "                                                                                                  \n",
            " conv4_block1_2_relu (Activatio  (None, None, None,   0          ['conv4_block1_2_bn[0][0]']      \n",
            " n)                             256)                                                              \n",
            "                                                                                                  \n",
            " conv4_block1_0_conv (Conv2D)   (None, None, None,   525312      ['conv3_block4_out[0][0]']       \n",
            "                                1024)                                                             \n",
            "                                                                                                  \n",
            " conv4_block1_3_conv (Conv2D)   (None, None, None,   263168      ['conv4_block1_2_relu[0][0]']    \n",
            "                                1024)                                                             \n",
            "                                                                                                  \n",
            " conv4_block1_0_bn (BatchNormal  (None, None, None,   4096       ['conv4_block1_0_conv[0][0]']    \n",
            " ization)                       1024)                                                             \n",
            "                                                                                                  \n",
            " conv4_block1_3_bn (BatchNormal  (None, None, None,   4096       ['conv4_block1_3_conv[0][0]']    \n",
            " ization)                       1024)                                                             \n",
            "                                                                                                  \n",
            " conv4_block1_add (Add)         (None, None, None,   0           ['conv4_block1_0_bn[0][0]',      \n",
            "                                1024)                             'conv4_block1_3_bn[0][0]']      \n",
            "                                                                                                  \n",
            " conv4_block1_out (Activation)  (None, None, None,   0           ['conv4_block1_add[0][0]']       \n",
            "                                1024)                                                             \n",
            "                                                                                                  \n",
            " conv4_block2_1_conv (Conv2D)   (None, None, None,   262400      ['conv4_block1_out[0][0]']       \n",
            "                                256)                                                              \n",
            "                                                                                                  \n",
            " conv4_block2_1_bn (BatchNormal  (None, None, None,   1024       ['conv4_block2_1_conv[0][0]']    \n",
            " ization)                       256)                                                              \n",
            "                                                                                                  \n",
            " conv4_block2_1_relu (Activatio  (None, None, None,   0          ['conv4_block2_1_bn[0][0]']      \n",
            " n)                             256)                                                              \n",
            "                                                                                                  \n",
            " conv4_block2_2_conv (Conv2D)   (None, None, None,   590080      ['conv4_block2_1_relu[0][0]']    \n",
            "                                256)                                                              \n",
            "                                                                                                  \n",
            " conv4_block2_2_bn (BatchNormal  (None, None, None,   1024       ['conv4_block2_2_conv[0][0]']    \n",
            " ization)                       256)                                                              \n",
            "                                                                                                  \n",
            " conv4_block2_2_relu (Activatio  (None, None, None,   0          ['conv4_block2_2_bn[0][0]']      \n",
            " n)                             256)                                                              \n",
            "                                                                                                  \n",
            " conv4_block2_3_conv (Conv2D)   (None, None, None,   263168      ['conv4_block2_2_relu[0][0]']    \n",
            "                                1024)                                                             \n",
            "                                                                                                  \n",
            " conv4_block2_3_bn (BatchNormal  (None, None, None,   4096       ['conv4_block2_3_conv[0][0]']    \n",
            " ization)                       1024)                                                             \n",
            "                                                                                                  \n",
            " conv4_block2_add (Add)         (None, None, None,   0           ['conv4_block1_out[0][0]',       \n",
            "                                1024)                             'conv4_block2_3_bn[0][0]']      \n",
            "                                                                                                  \n",
            " conv4_block2_out (Activation)  (None, None, None,   0           ['conv4_block2_add[0][0]']       \n",
            "                                1024)                                                             \n",
            "                                                                                                  \n",
            " conv4_block3_1_conv (Conv2D)   (None, None, None,   262400      ['conv4_block2_out[0][0]']       \n",
            "                                256)                                                              \n",
            "                                                                                                  \n",
            " conv4_block3_1_bn (BatchNormal  (None, None, None,   1024       ['conv4_block3_1_conv[0][0]']    \n",
            " ization)                       256)                                                              \n",
            "                                                                                                  \n",
            " conv4_block3_1_relu (Activatio  (None, None, None,   0          ['conv4_block3_1_bn[0][0]']      \n",
            " n)                             256)                                                              \n",
            "                                                                                                  \n",
            " conv4_block3_2_conv (Conv2D)   (None, None, None,   590080      ['conv4_block3_1_relu[0][0]']    \n",
            "                                256)                                                              \n",
            "                                                                                                  \n",
            " conv4_block3_2_bn (BatchNormal  (None, None, None,   1024       ['conv4_block3_2_conv[0][0]']    \n",
            " ization)                       256)                                                              \n",
            "                                                                                                  \n",
            " conv4_block3_2_relu (Activatio  (None, None, None,   0          ['conv4_block3_2_bn[0][0]']      \n",
            " n)                             256)                                                              \n",
            "                                                                                                  \n",
            " conv4_block3_3_conv (Conv2D)   (None, None, None,   263168      ['conv4_block3_2_relu[0][0]']    \n",
            "                                1024)                                                             \n",
            "                                                                                                  \n",
            " conv4_block3_3_bn (BatchNormal  (None, None, None,   4096       ['conv4_block3_3_conv[0][0]']    \n",
            " ization)                       1024)                                                             \n",
            "                                                                                                  \n",
            " conv4_block3_add (Add)         (None, None, None,   0           ['conv4_block2_out[0][0]',       \n",
            "                                1024)                             'conv4_block3_3_bn[0][0]']      \n",
            "                                                                                                  \n",
            " conv4_block3_out (Activation)  (None, None, None,   0           ['conv4_block3_add[0][0]']       \n",
            "                                1024)                                                             \n",
            "                                                                                                  \n",
            " conv4_block4_1_conv (Conv2D)   (None, None, None,   262400      ['conv4_block3_out[0][0]']       \n",
            "                                256)                                                              \n",
            "                                                                                                  \n",
            " conv4_block4_1_bn (BatchNormal  (None, None, None,   1024       ['conv4_block4_1_conv[0][0]']    \n",
            " ization)                       256)                                                              \n",
            "                                                                                                  \n",
            " conv4_block4_1_relu (Activatio  (None, None, None,   0          ['conv4_block4_1_bn[0][0]']      \n",
            " n)                             256)                                                              \n",
            "                                                                                                  \n",
            " conv4_block4_2_conv (Conv2D)   (None, None, None,   590080      ['conv4_block4_1_relu[0][0]']    \n",
            "                                256)                                                              \n",
            "                                                                                                  \n",
            " conv4_block4_2_bn (BatchNormal  (None, None, None,   1024       ['conv4_block4_2_conv[0][0]']    \n",
            " ization)                       256)                                                              \n",
            "                                                                                                  \n",
            " conv4_block4_2_relu (Activatio  (None, None, None,   0          ['conv4_block4_2_bn[0][0]']      \n",
            " n)                             256)                                                              \n",
            "                                                                                                  \n",
            " conv4_block4_3_conv (Conv2D)   (None, None, None,   263168      ['conv4_block4_2_relu[0][0]']    \n",
            "                                1024)                                                             \n",
            "                                                                                                  \n",
            " conv4_block4_3_bn (BatchNormal  (None, None, None,   4096       ['conv4_block4_3_conv[0][0]']    \n",
            " ization)                       1024)                                                             \n",
            "                                                                                                  \n",
            " conv4_block4_add (Add)         (None, None, None,   0           ['conv4_block3_out[0][0]',       \n",
            "                                1024)                             'conv4_block4_3_bn[0][0]']      \n",
            "                                                                                                  \n",
            " conv4_block4_out (Activation)  (None, None, None,   0           ['conv4_block4_add[0][0]']       \n",
            "                                1024)                                                             \n",
            "                                                                                                  \n",
            " conv4_block5_1_conv (Conv2D)   (None, None, None,   262400      ['conv4_block4_out[0][0]']       \n",
            "                                256)                                                              \n",
            "                                                                                                  \n",
            " conv4_block5_1_bn (BatchNormal  (None, None, None,   1024       ['conv4_block5_1_conv[0][0]']    \n",
            " ization)                       256)                                                              \n",
            "                                                                                                  \n",
            " conv4_block5_1_relu (Activatio  (None, None, None,   0          ['conv4_block5_1_bn[0][0]']      \n",
            " n)                             256)                                                              \n",
            "                                                                                                  \n",
            " conv4_block5_2_conv (Conv2D)   (None, None, None,   590080      ['conv4_block5_1_relu[0][0]']    \n",
            "                                256)                                                              \n",
            "                                                                                                  \n",
            " conv4_block5_2_bn (BatchNormal  (None, None, None,   1024       ['conv4_block5_2_conv[0][0]']    \n",
            " ization)                       256)                                                              \n",
            "                                                                                                  \n",
            " conv4_block5_2_relu (Activatio  (None, None, None,   0          ['conv4_block5_2_bn[0][0]']      \n",
            " n)                             256)                                                              \n",
            "                                                                                                  \n",
            " conv4_block5_3_conv (Conv2D)   (None, None, None,   263168      ['conv4_block5_2_relu[0][0]']    \n",
            "                                1024)                                                             \n",
            "                                                                                                  \n",
            " conv4_block5_3_bn (BatchNormal  (None, None, None,   4096       ['conv4_block5_3_conv[0][0]']    \n",
            " ization)                       1024)                                                             \n",
            "                                                                                                  \n",
            " conv4_block5_add (Add)         (None, None, None,   0           ['conv4_block4_out[0][0]',       \n",
            "                                1024)                             'conv4_block5_3_bn[0][0]']      \n",
            "                                                                                                  \n",
            " conv4_block5_out (Activation)  (None, None, None,   0           ['conv4_block5_add[0][0]']       \n",
            "                                1024)                                                             \n",
            "                                                                                                  \n",
            " conv4_block6_1_conv (Conv2D)   (None, None, None,   262400      ['conv4_block5_out[0][0]']       \n",
            "                                256)                                                              \n",
            "                                                                                                  \n",
            " conv4_block6_1_bn (BatchNormal  (None, None, None,   1024       ['conv4_block6_1_conv[0][0]']    \n",
            " ization)                       256)                                                              \n",
            "                                                                                                  \n",
            " conv4_block6_1_relu (Activatio  (None, None, None,   0          ['conv4_block6_1_bn[0][0]']      \n",
            " n)                             256)                                                              \n",
            "                                                                                                  \n",
            " conv4_block6_2_conv (Conv2D)   (None, None, None,   590080      ['conv4_block6_1_relu[0][0]']    \n",
            "                                256)                                                              \n",
            "                                                                                                  \n",
            " conv4_block6_2_bn (BatchNormal  (None, None, None,   1024       ['conv4_block6_2_conv[0][0]']    \n",
            " ization)                       256)                                                              \n",
            "                                                                                                  \n",
            " conv4_block6_2_relu (Activatio  (None, None, None,   0          ['conv4_block6_2_bn[0][0]']      \n",
            " n)                             256)                                                              \n",
            "                                                                                                  \n",
            " conv4_block6_3_conv (Conv2D)   (None, None, None,   263168      ['conv4_block6_2_relu[0][0]']    \n",
            "                                1024)                                                             \n",
            "                                                                                                  \n",
            " conv4_block6_3_bn (BatchNormal  (None, None, None,   4096       ['conv4_block6_3_conv[0][0]']    \n",
            " ization)                       1024)                                                             \n",
            "                                                                                                  \n",
            " conv4_block6_add (Add)         (None, None, None,   0           ['conv4_block5_out[0][0]',       \n",
            "                                1024)                             'conv4_block6_3_bn[0][0]']      \n",
            "                                                                                                  \n",
            " conv4_block6_out (Activation)  (None, None, None,   0           ['conv4_block6_add[0][0]']       \n",
            "                                1024)                                                             \n",
            "                                                                                                  \n",
            " conv5_block1_1_conv (Conv2D)   (None, None, None,   524800      ['conv4_block6_out[0][0]']       \n",
            "                                512)                                                              \n",
            "                                                                                                  \n",
            " conv5_block1_1_bn (BatchNormal  (None, None, None,   2048       ['conv5_block1_1_conv[0][0]']    \n",
            " ization)                       512)                                                              \n",
            "                                                                                                  \n",
            " conv5_block1_1_relu (Activatio  (None, None, None,   0          ['conv5_block1_1_bn[0][0]']      \n",
            " n)                             512)                                                              \n",
            "                                                                                                  \n",
            " conv5_block1_2_conv (Conv2D)   (None, None, None,   2359808     ['conv5_block1_1_relu[0][0]']    \n",
            "                                512)                                                              \n",
            "                                                                                                  \n",
            " conv5_block1_2_bn (BatchNormal  (None, None, None,   2048       ['conv5_block1_2_conv[0][0]']    \n",
            " ization)                       512)                                                              \n",
            "                                                                                                  \n",
            " conv5_block1_2_relu (Activatio  (None, None, None,   0          ['conv5_block1_2_bn[0][0]']      \n",
            " n)                             512)                                                              \n",
            "                                                                                                  \n",
            " conv5_block1_0_conv (Conv2D)   (None, None, None,   2099200     ['conv4_block6_out[0][0]']       \n",
            "                                2048)                                                             \n",
            "                                                                                                  \n",
            " conv5_block1_3_conv (Conv2D)   (None, None, None,   1050624     ['conv5_block1_2_relu[0][0]']    \n",
            "                                2048)                                                             \n",
            "                                                                                                  \n",
            " conv5_block1_0_bn (BatchNormal  (None, None, None,   8192       ['conv5_block1_0_conv[0][0]']    \n",
            " ization)                       2048)                                                             \n",
            "                                                                                                  \n",
            " conv5_block1_3_bn (BatchNormal  (None, None, None,   8192       ['conv5_block1_3_conv[0][0]']    \n",
            " ization)                       2048)                                                             \n",
            "                                                                                                  \n",
            " conv5_block1_add (Add)         (None, None, None,   0           ['conv5_block1_0_bn[0][0]',      \n",
            "                                2048)                             'conv5_block1_3_bn[0][0]']      \n",
            "                                                                                                  \n",
            " conv5_block1_out (Activation)  (None, None, None,   0           ['conv5_block1_add[0][0]']       \n",
            "                                2048)                                                             \n",
            "                                                                                                  \n",
            " conv5_block2_1_conv (Conv2D)   (None, None, None,   1049088     ['conv5_block1_out[0][0]']       \n",
            "                                512)                                                              \n",
            "                                                                                                  \n",
            " conv5_block2_1_bn (BatchNormal  (None, None, None,   2048       ['conv5_block2_1_conv[0][0]']    \n",
            " ization)                       512)                                                              \n",
            "                                                                                                  \n",
            " conv5_block2_1_relu (Activatio  (None, None, None,   0          ['conv5_block2_1_bn[0][0]']      \n",
            " n)                             512)                                                              \n",
            "                                                                                                  \n",
            " conv5_block2_2_conv (Conv2D)   (None, None, None,   2359808     ['conv5_block2_1_relu[0][0]']    \n",
            "                                512)                                                              \n",
            "                                                                                                  \n",
            " conv5_block2_2_bn (BatchNormal  (None, None, None,   2048       ['conv5_block2_2_conv[0][0]']    \n",
            " ization)                       512)                                                              \n",
            "                                                                                                  \n",
            " conv5_block2_2_relu (Activatio  (None, None, None,   0          ['conv5_block2_2_bn[0][0]']      \n",
            " n)                             512)                                                              \n",
            "                                                                                                  \n",
            " conv5_block2_3_conv (Conv2D)   (None, None, None,   1050624     ['conv5_block2_2_relu[0][0]']    \n",
            "                                2048)                                                             \n",
            "                                                                                                  \n",
            " conv5_block2_3_bn (BatchNormal  (None, None, None,   8192       ['conv5_block2_3_conv[0][0]']    \n",
            " ization)                       2048)                                                             \n",
            "                                                                                                  \n",
            " conv5_block2_add (Add)         (None, None, None,   0           ['conv5_block1_out[0][0]',       \n",
            "                                2048)                             'conv5_block2_3_bn[0][0]']      \n",
            "                                                                                                  \n",
            " conv5_block2_out (Activation)  (None, None, None,   0           ['conv5_block2_add[0][0]']       \n",
            "                                2048)                                                             \n",
            "                                                                                                  \n",
            " conv5_block3_1_conv (Conv2D)   (None, None, None,   1049088     ['conv5_block2_out[0][0]']       \n",
            "                                512)                                                              \n",
            "                                                                                                  \n",
            " conv5_block3_1_bn (BatchNormal  (None, None, None,   2048       ['conv5_block3_1_conv[0][0]']    \n",
            " ization)                       512)                                                              \n",
            "                                                                                                  \n",
            " conv5_block3_1_relu (Activatio  (None, None, None,   0          ['conv5_block3_1_bn[0][0]']      \n",
            " n)                             512)                                                              \n",
            "                                                                                                  \n",
            " conv5_block3_2_conv (Conv2D)   (None, None, None,   2359808     ['conv5_block3_1_relu[0][0]']    \n",
            "                                512)                                                              \n",
            "                                                                                                  \n",
            " conv5_block3_2_bn (BatchNormal  (None, None, None,   2048       ['conv5_block3_2_conv[0][0]']    \n",
            " ization)                       512)                                                              \n",
            "                                                                                                  \n",
            " conv5_block3_2_relu (Activatio  (None, None, None,   0          ['conv5_block3_2_bn[0][0]']      \n",
            " n)                             512)                                                              \n",
            "                                                                                                  \n",
            " conv5_block3_3_conv (Conv2D)   (None, None, None,   1050624     ['conv5_block3_2_relu[0][0]']    \n",
            "                                2048)                                                             \n",
            "                                                                                                  \n",
            " conv5_block3_3_bn (BatchNormal  (None, None, None,   8192       ['conv5_block3_3_conv[0][0]']    \n",
            " ization)                       2048)                                                             \n",
            "                                                                                                  \n",
            " conv5_block3_add (Add)         (None, None, None,   0           ['conv5_block2_out[0][0]',       \n",
            "                                2048)                             'conv5_block3_3_bn[0][0]']      \n",
            "                                                                                                  \n",
            " conv5_block3_out (Activation)  (None, None, None,   0           ['conv5_block3_add[0][0]']       \n",
            "                                2048)                                                             \n",
            "                                                                                                  \n",
            "==================================================================================================\n",
            "Total params: 23,587,712\n",
            "Trainable params: 23,534,592\n",
            "Non-trainable params: 53,120\n",
            "__________________________________________________________________________________________________\n",
            "You must install pydot (`pip install pydot`) and install graphviz (see instructions at https://graphviz.gitlab.io/download/) for plot_model/model_to_dot to work.\n"
          ]
        }
      ],
      "source": [
        "# Have an in-depth look in the model architecture of ResNet50\n",
        "\n",
        "base_model = ResNet50(weights='imagenet', include_top = False)\n",
        "base_model.summary()\n",
        "plot_model(base_model)"
      ]
    },
    {
      "cell_type": "markdown",
      "metadata": {
        "id": "2bdRbHmhyPTk"
      },
      "source": [
        "Data Preparation"
      ]
    },
    {
      "cell_type": "code",
      "execution_count": null,
      "metadata": {
        "id": "7VdTzx7QyPTl"
      },
      "outputs": [],
      "source": [
        "# Provide path to the dataset\n",
        "base_ds = r'C:\\Split Dataset (CT Scans by Plameneduardo)' # Your own system path after splitted\n",
        "train_ds = os.path.join(base_ds, 'train')\n",
        "validation_ds = os.path.join(base_ds, 'val')\n",
        "test_ds = os.path.join(base_ds, 'test')"
      ]
    },
    {
      "cell_type": "code",
      "execution_count": null,
      "metadata": {
        "id": "7UsO6N1vyPTm"
      },
      "outputs": [],
      "source": [
        "# Check the path for each datasets\n",
        "train_ds"
      ]
    },
    {
      "cell_type": "code",
      "execution_count": null,
      "metadata": {
        "id": "EEIM2yNEyPTn"
      },
      "outputs": [],
      "source": [
        "# Check the path for each datasets\n",
        "validation_ds"
      ]
    },
    {
      "cell_type": "code",
      "execution_count": null,
      "metadata": {
        "id": "lvBAQtuNyPTo"
      },
      "outputs": [],
      "source": [
        "# Check the path for each datasets\n",
        "test_ds"
      ]
    },
    {
      "cell_type": "code",
      "execution_count": null,
      "metadata": {
        "id": "cqTC6pRjyPTp"
      },
      "outputs": [],
      "source": [
        "# Apply directories for the purpose in the training\n",
        "# Combines path names into one complete path\n",
        "# Various part of paths can be merged into one\n",
        "\n",
        "# Directory with our training COVID pictures\n",
        "train_covid_ds = os.path.join(train_ds, 'COVID')\n",
        "# Directory with our training non-COVID pictures\n",
        "train_non_COVID_ds = os.path.join(train_ds, 'non-COVID')\n",
        "\n",
        "# Directory with our validation COVID pictures\n",
        "validation_covid_ds = os.path.join(validation_ds, 'COVID')\n",
        "# Directory with our validation non-COVID pictures\n",
        "validation_non_COVID_ds = os.path.join(validation_ds, 'non-COVID')\n",
        "\n",
        "# Directory with our validation COVID pictures\n",
        "test_covid_ds = os.path.join(test_ds, 'COVID')\n",
        "# Directory with our validation non-COVID pictures\n",
        "test_non_COVID_ds = os.path.join(test_ds, 'non-COVID')"
      ]
    },
    {
      "cell_type": "code",
      "execution_count": null,
      "metadata": {
        "id": "634s1cjWyPTq"
      },
      "outputs": [],
      "source": [
        "# Check the directory on one of the dataset to confirm it has no error\n",
        "\n",
        "train_covid_ds"
      ]
    },
    {
      "cell_type": "code",
      "execution_count": null,
      "metadata": {
        "id": "8tSnqLs_yPTq",
        "outputId": "11e8dc8b-33bf-4256-c1c5-4b30086e7d72"
      },
      "outputs": [
        {
          "name": "stdout",
          "output_type": "stream",
          "text": [
            "total training covid images: 876\n"
          ]
        }
      ],
      "source": [
        "# Check the quantity of the covid images in train_covid_ds\n",
        "\n",
        "print('total training covid images:', len(os.listdir(train_covid_ds)))"
      ]
    },
    {
      "cell_type": "code",
      "execution_count": null,
      "metadata": {
        "id": "t0NXARhpyPTq",
        "outputId": "81375f74-e48c-4bbb-e456-777b0dd9fc07"
      },
      "outputs": [
        {
          "name": "stdout",
          "output_type": "stream",
          "text": [
            "Found 1736 images belonging to 2 classes.\n",
            "Found 1736 images belonging to 2 classes.\n",
            "Found 495 images belonging to 2 classes.\n"
          ]
        }
      ],
      "source": [
        "# Preparing the data\n",
        "# Batch size depends on the datset size. \n",
        "# In this example there are 1736 image in training set and 495 in test set.\n",
        "# The factor numbers for both are different hence it is hard to choose batch size\n",
        "# The easy solution is set the batch size to 1 and it can run smoothly in the later part\n",
        "# Have tried different numbers but during training the modelm it keep interrupted due to lack of data\n",
        "# Suggested to use repeat() function but this dataset is not contructed by code hence repeat() is not advisable\n",
        "\n",
        "from keras.preprocessing.image import ImageDataGenerator\n",
        "\n",
        "# All images will be rescaled by 1./255\n",
        "train_datagen = ImageDataGenerator(rescale=1./255)\n",
        "test_datagen = ImageDataGenerator(rescale=1./255)\n",
        "train_generator = train_datagen.flow_from_directory (train_ds, )\n",
        "train_generator = train_datagen.flow_from_directory(\n",
        "        # This is the target directory\n",
        "        train_ds,\n",
        "        # All images will be resized to 224x224\n",
        "        target_size=(224, 224),\n",
        "        batch_size=1,\n",
        "        # Since we use binary_crossentropy loss, we need binary labels\n",
        "        class_mode='binary')\n",
        "\n",
        "validation_generator = test_datagen.flow_from_directory(\n",
        "        validation_ds,\n",
        "        target_size=(224, 224),\n",
        "        batch_size=1,\n",
        "        class_mode='binary')"
      ]
    },
    {
      "cell_type": "code",
      "execution_count": null,
      "metadata": {
        "id": "vNGSMxjcyPTr",
        "outputId": "51405699-7e6c-4764-f6a8-ec4e5711d200"
      },
      "outputs": [
        {
          "name": "stdout",
          "output_type": "stream",
          "text": [
            "data batch shape: (1, 224, 224, 3)\n",
            "labels batch shape: (1,)\n"
          ]
        }
      ],
      "source": [
        "# To see the batch shape of data\n",
        "# It shows 1 due to batch size with 224x224x3\n",
        "# Labels batch shape is 1 as well due to the batch size in previous cell\n",
        "\n",
        "for data_batch, labels_batch in train_generator:\n",
        "    print('data batch shape:', data_batch.shape)\n",
        "    print('labels batch shape:', labels_batch.shape)\n",
        "    break"
      ]
    },
    {
      "cell_type": "code",
      "execution_count": null,
      "metadata": {
        "id": "OYaP6yrsyPTr"
      },
      "outputs": [],
      "source": [
        "# Develop and add early stopping to the model training\n",
        "\n",
        "from keras.callbacks import EarlyStopping\n",
        "\n",
        "early_stopping = keras.callbacks.EarlyStopping(monitor='val_loss', patience=5,\n",
        "                                               min_delta=0, verbose=2, mode='auto',\n",
        "                                               restore_best_weights=True,\n",
        "                                               )"
      ]
    },
    {
      "cell_type": "code",
      "execution_count": null,
      "metadata": {
        "id": "Kn6Y04BRyPTr",
        "outputId": "07d33e7f-e7ed-43da-8f8f-8039f35479ed"
      },
      "outputs": [
        {
          "name": "stdout",
          "output_type": "stream",
          "text": [
            "Epoch 1/23\n",
            "97/97 [==============================] - 133s 1s/step - loss: 0.7813 - accuracy: 0.4639 - val_loss: 0.7356 - val_accuracy: 0.4800\n",
            "Epoch 2/23\n",
            "97/97 [==============================] - 128s 1s/step - loss: 0.7462 - accuracy: 0.5258 - val_loss: 0.6888 - val_accuracy: 0.4400\n",
            "Epoch 3/23\n",
            "97/97 [==============================] - 125s 1s/step - loss: 0.7285 - accuracy: 0.4536 - val_loss: 0.7049 - val_accuracy: 0.4800\n",
            "Epoch 4/23\n",
            "97/97 [==============================] - 126s 1s/step - loss: 0.7412 - accuracy: 0.5361 - val_loss: 0.6859 - val_accuracy: 0.4400\n",
            "Epoch 5/23\n",
            "97/97 [==============================] - 125s 1s/step - loss: 0.7410 - accuracy: 0.4742 - val_loss: 0.7766 - val_accuracy: 0.5600\n",
            "Epoch 6/23\n",
            "97/97 [==============================] - 125s 1s/step - loss: 0.7527 - accuracy: 0.4227 - val_loss: 0.6940 - val_accuracy: 0.4800\n",
            "Epoch 7/23\n",
            "97/97 [==============================] - 125s 1s/step - loss: 0.7347 - accuracy: 0.4742 - val_loss: 0.7262 - val_accuracy: 0.6000\n",
            "Epoch 8/23\n",
            "97/97 [==============================] - 125s 1s/step - loss: 0.6930 - accuracy: 0.3711 - val_loss: 0.6961 - val_accuracy: 0.5000\n",
            "Epoch 9/23\n",
            "97/97 [==============================] - ETA: 0s - loss: 0.7190 - accuracy: 0.5052Restoring model weights from the end of the best epoch: 4.\n",
            "97/97 [==============================] - 125s 1s/step - loss: 0.7190 - accuracy: 0.5052 - val_loss: 0.7134 - val_accuracy: 0.6000\n",
            "Epoch 9: early stopping\n"
          ]
        }
      ],
      "source": [
        "# steps_per_epoch is based on the number of batches available in the training dataset\n",
        "# validation_steps is based on the number of batches in the validation dataset\n",
        "# Because train and valid datasets only got 2231, hence use 97 and 23\n",
        "\n",
        "history = model.fit(\n",
        "      train_generator,\n",
        "      steps_per_epoch=97,\n",
        "      epochs=23,\n",
        "      validation_data=validation_generator,\n",
        "      validation_steps=50,\n",
        "      callbacks=[early_stopping])"
      ]
    },
    {
      "cell_type": "code",
      "execution_count": null,
      "metadata": {
        "id": "GL85hoXxyPTr",
        "outputId": "cd4a6c7b-3a54-4e51-d8a9-773f1e4287ce"
      },
      "outputs": [
        {
          "data": {
            "image/png": "[encoded data removed]",
            "text/plain": [
              "<Figure size 432x288 with 1 Axes>"
            ]
          },
          "metadata": {
            "needs_background": "light"
          },
          "output_type": "display_data"
        },
        {
          "data": {
            "image/png": "[encoded data removed]",
            "text/plain": [
              "<Figure size 432x288 with 1 Axes>"
            ]
          },
          "metadata": {
            "needs_background": "light"
          },
          "output_type": "display_data"
        }
      ],
      "source": [
        "# Show the training and validation accuracy through visualization (plot model)\n",
        "# Show the training and validation loss through visualization (plot model)\n",
        "\n",
        "import matplotlib.pyplot as plt\n",
        "\n",
        "accuracy = history.history['accuracy']\n",
        "val_acc = history.history['val_accuracy']\n",
        "loss = history.history['loss']\n",
        "val_loss = history.history['val_loss']\n",
        "\n",
        "epochs = range(len(accuracy))\n",
        "\n",
        "plt.plot(epochs, accuracy, 'bo', label='Training acc')\n",
        "plt.plot(epochs, val_acc, 'b', label='Validation acc')\n",
        "plt.title('Training and validation accuracy')\n",
        "plt.legend()\n",
        "\n",
        "plt.figure()\n",
        "\n",
        "plt.plot(epochs, loss, 'bo', label='Training loss')\n",
        "plt.plot(epochs, val_loss, 'b', label='Validation loss')\n",
        "plt.title('Training and validation loss')\n",
        "plt.legend()\n",
        "\n",
        "plt.show()"
      ]
    },
    {
      "cell_type": "code",
      "execution_count": null,
      "metadata": {
        "id": "-ccO7DMzyPTs",
        "outputId": "42171351-e78a-43ad-ca4d-1278a6e51d74"
      },
      "outputs": [
        {
          "data": {
            "image/png": "[encoded data removed]",
            "text/plain": [
              "<Figure size 576x360 with 1 Axes>"
            ]
          },
          "metadata": {
            "needs_background": "light"
          },
          "output_type": "display_data"
        }
      ],
      "source": [
        "pd.DataFrame(history.history).plot(figsize=(8,5))\n",
        "plt.grid(True)\n",
        "plt.gca().set_ylim(0,1)\n",
        "plt.show()"
      ]
    },
    {
      "cell_type": "code",
      "execution_count": null,
      "metadata": {
        "id": "hTZvqMdzyPTs"
      },
      "outputs": [],
      "source": []
    },
    {
      "cell_type": "code",
      "execution_count": null,
      "metadata": {
        "id": "t9LGNof3yPTs"
      },
      "outputs": [],
      "source": []
    },
    {
      "cell_type": "code",
      "execution_count": null,
      "metadata": {
        "id": "M3OwZpGcyPTs"
      },
      "outputs": [],
      "source": []
    },
    {
      "cell_type": "code",
      "execution_count": null,
      "metadata": {
        "id": "OiwCqaDPyPTs"
      },
      "outputs": [],
      "source": []
    },
    {
      "cell_type": "code",
      "execution_count": null,
      "metadata": {
        "id": "bv-Xq3N6yPTs"
      },
      "outputs": [],
      "source": []
    },
    {
      "cell_type": "code",
      "execution_count": null,
      "metadata": {
        "id": "9kOw_vwDyPTt"
      },
      "outputs": [],
      "source": []
    }
  ],
  "metadata": {
    "colab": {
      "provenance": []
    },
    "interpreter": {
      "hash": "aecd030d4c8316a52bf122072e28f84bcc79844c2684e041fef2e3f1d9f59078"
    },
    "kernelspec": {
      "display_name": "Python 3.10.2 64-bit",
      "language": "python",
      "name": "python3"
    },
    "language_info": {
      "codemirror_mode": {
        "name": "ipython",
        "version": 3
      },
      "file_extension": ".py",
      "mimetype": "text/x-python",
      "name": "python",
      "nbconvert_exporter": "python",
      "pygments_lexer": "ipython3",
      "version": "3.10.2"
    },
    "orig_nbformat": 4
  },
  "nbformat": 4,
  "nbformat_minor": 0
}
